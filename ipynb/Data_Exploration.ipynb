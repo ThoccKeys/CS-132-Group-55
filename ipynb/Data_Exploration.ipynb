{
  "cells": [
    {
      "cell_type": "markdown",
      "metadata": {
        "id": "QAI2YU5mDOFa"
      },
      "source": [
        "# **Pre-processing**"
      ]
    },
    {
      "cell_type": "markdown",
      "metadata": {
        "id": "0wZlaOIVqoL-"
      },
      "source": [
        "Exploring data using pandas"
      ]
    },
    {
      "cell_type": "code",
      "execution_count": null,
      "metadata": {
        "id": "yoCuB3O8qYCa"
      },
      "outputs": [],
      "source": [
        "import pandas as pd\n",
        "import numpy as np\n",
        "import scipy as sp\n",
        "import re\n",
        "import copy\n",
        "import string\n",
        "import nltk"
      ]
    },
    {
      "cell_type": "markdown",
      "metadata": {
        "id": "2eBWL0FPq36h"
      },
      "source": [
        "Linking google drive to access NewData.csv"
      ]
    },
    {
      "cell_type": "code",
      "execution_count": null,
      "metadata": {
        "colab": {
          "base_uri": "https://localhost:8080/"
        },
        "id": "ZWUPTuifq0gQ",
        "outputId": "dda03a1b-38ed-45e7-ed89-2f53ea3f90a9"
      },
      "outputs": [
        {
          "name": "stdout",
          "output_type": "stream",
          "text": [
            "Drive already mounted at /content/drive; to attempt to forcibly remount, call drive.mount(\"/content/drive\", force_remount=True).\n"
          ]
        }
      ],
      "source": [
        "from google.colab import drive\n",
        "drive.mount('/content/drive')"
      ]
    },
    {
      "cell_type": "markdown",
      "metadata": {
        "id": "yzBqpicxwidM"
      },
      "source": [
        "Pre-processing"
      ]
    },
    {
      "cell_type": "code",
      "execution_count": null,
      "metadata": {
        "id": "g2834SdpY8uG"
      },
      "outputs": [],
      "source": [
        "data = pd.read_csv('/content/drive/MyDrive/CS 132/NewData.csv', nrows = 150)"
      ]
    },
    {
      "cell_type": "markdown",
      "metadata": {
        "id": "IXsumB4ZzaPr"
      },
      "source": [
        "Removes all the NaN columns."
      ]
    },
    {
      "cell_type": "code",
      "execution_count": null,
      "metadata": {
        "id": "3UYOYrJ5wm1x"
      },
      "outputs": [],
      "source": [
        "NewData = data.dropna(axis = 1)"
      ]
    },
    {
      "cell_type": "code",
      "execution_count": null,
      "metadata": {
        "id": "v45esNdUzgk_"
      },
      "outputs": [],
      "source": [
        "Tweets = NewData['Tweet']"
      ]
    },
    {
      "cell_type": "code",
      "execution_count": null,
      "metadata": {
        "colab": {
          "base_uri": "https://localhost:8080/"
        },
        "id": "hUveVgl64xas",
        "outputId": "3429fc83-4e3d-4451-bce5-397e5acd1d9e"
      },
      "outputs": [
        {
          "data": {
            "text/plain": [
              "ID                150\n",
              "Timestamp         150\n",
              "Tweet URL         150\n",
              "Group               1\n",
              "Collector           3\n",
              "Category            1\n",
              "Topic               1\n",
              "Keywords           24\n",
              "Account handle    140\n",
              "Account name      140\n",
              "Account type        3\n",
              "Joined             76\n",
              "Following         127\n",
              "Followers         113\n",
              "Tweet             150\n",
              "Tweet Type          8\n",
              "Date posted       150\n",
              "Content type        2\n",
              "Likes              25\n",
              "Replies            12\n",
              "Retweets           14\n",
              "Quote Tweets       11\n",
              "Reasoning          28\n",
              "dtype: int64"
            ]
          },
          "execution_count": 8,
          "metadata": {},
          "output_type": "execute_result"
        }
      ],
      "source": [
        "NewData.columns\n",
        "NewData.nunique()"
      ]
    },
    {
      "cell_type": "code",
      "execution_count": null,
      "metadata": {
        "colab": {
          "base_uri": "https://localhost:8080/"
        },
        "id": "VwYKfod1AkBw",
        "outputId": "0a43da19-69c1-4e32-f414-c2a9725b072d"
      },
      "outputs": [
        {
          "name": "stderr",
          "output_type": "stream",
          "text": [
            "<ipython-input-9-41cd86290567>:2: SettingWithCopyWarning: \n",
            "A value is trying to be set on a copy of a slice from a DataFrame.\n",
            "Try using .loc[row_indexer,col_indexer] = value instead\n",
            "\n",
            "See the caveats in the documentation: https://pandas.pydata.org/pandas-docs/stable/user_guide/indexing.html#returning-a-view-versus-a-copy\n",
            "  NewData['Engagements'] = NewData[column_names].sum(axis=1)\n",
            "<ipython-input-9-41cd86290567>:3: SettingWithCopyWarning: \n",
            "A value is trying to be set on a copy of a slice from a DataFrame.\n",
            "Try using .loc[row_indexer,col_indexer] = value instead\n",
            "\n",
            "See the caveats in the documentation: https://pandas.pydata.org/pandas-docs/stable/user_guide/indexing.html#returning-a-view-versus-a-copy\n",
            "  NewData['Date posted'] = pd.to_datetime(NewData['Date posted'])\n"
          ]
        },
        {
          "data": {
            "text/plain": [
              "0     2022-05-02 00:56:00\n",
              "1     2021-11-25 14:30:00\n",
              "2     2022-05-19 11:19:00\n",
              "3     2022-03-28 22:35:00\n",
              "4     2022-03-15 11:31:00\n",
              "              ...        \n",
              "145   2022-08-02 14:24:00\n",
              "146   2022-04-02 17:18:00\n",
              "147   2022-04-02 11:50:00\n",
              "148   2022-04-02 03:19:00\n",
              "149   2022-01-25 08:06:00\n",
              "Name: Date posted, Length: 150, dtype: datetime64[ns]"
            ]
          },
          "execution_count": 9,
          "metadata": {},
          "output_type": "execute_result"
        }
      ],
      "source": [
        "column_names = ['Likes', 'Replies', 'Retweets', 'Quote Tweets']\n",
        "NewData['Engagements'] = NewData[column_names].sum(axis=1)\n",
        "NewData['Date posted'] = pd.to_datetime(NewData['Date posted'])\n",
        "NewData['Date posted']"
      ]
    },
    {
      "cell_type": "markdown",
      "metadata": {
        "id": "qFTntF6JleEy"
      },
      "source": [
        "Cleaning"
      ]
    },
    {
      "cell_type": "code",
      "execution_count": null,
      "metadata": {
        "colab": {
          "base_uri": "https://localhost:8080/",
          "height": 423
        },
        "id": "uLsHn1hBljjG",
        "outputId": "a2cb1955-964f-4762-8bd0-bae2cf398359"
      },
      "outputs": [
        {
          "data": {
            "text/html": [
              "\n",
              "  <div id=\"df-4f043d08-d15a-46c7-8165-0debcb13e112\">\n",
              "    <div class=\"colab-df-container\">\n",
              "      <div>\n",
              "<style scoped>\n",
              "    .dataframe tbody tr th:only-of-type {\n",
              "        vertical-align: middle;\n",
              "    }\n",
              "\n",
              "    .dataframe tbody tr th {\n",
              "        vertical-align: top;\n",
              "    }\n",
              "\n",
              "    .dataframe thead th {\n",
              "        text-align: right;\n",
              "    }\n",
              "</style>\n",
              "<table border=\"1\" class=\"dataframe\">\n",
              "  <thead>\n",
              "    <tr style=\"text-align: right;\">\n",
              "      <th></th>\n",
              "      <th>Tweet</th>\n",
              "      <th>Date</th>\n",
              "      <th>Engagements</th>\n",
              "    </tr>\n",
              "  </thead>\n",
              "  <tbody>\n",
              "    <tr>\n",
              "      <th>0</th>\n",
              "      <td>yang mga link mopuro fake sa websites hindi po...</td>\n",
              "      <td>2022-05-02 00:56:00</td>\n",
              "      <td>1</td>\n",
              "    </tr>\n",
              "    <tr>\n",
              "      <th>1</th>\n",
              "      <td>ang psdbm—pharmally issue ay parang marcos ill...</td>\n",
              "      <td>2021-11-25 14:30:00</td>\n",
              "      <td>120</td>\n",
              "    </tr>\n",
              "    <tr>\n",
              "      <th>2</th>\n",
              "      <td>ang karamihan sa martial victims ay inimbento ...</td>\n",
              "      <td>2022-05-19 11:19:00</td>\n",
              "      <td>89</td>\n",
              "    </tr>\n",
              "    <tr>\n",
              "      <th>3</th>\n",
              "      <td>xian gaza sigurado kang ninakaw nila alam mo  ...</td>\n",
              "      <td>2022-03-28 22:35:00</td>\n",
              "      <td>6</td>\n",
              "    </tr>\n",
              "    <tr>\n",
              "      <th>4</th>\n",
              "      <td>but they dont tackle the 9th which is not to b...</td>\n",
              "      <td>2022-03-15 11:31:00</td>\n",
              "      <td>78</td>\n",
              "    </tr>\n",
              "    <tr>\n",
              "      <th>...</th>\n",
              "      <td>...</td>\n",
              "      <td>...</td>\n",
              "      <td>...</td>\n",
              "    </tr>\n",
              "    <tr>\n",
              "      <th>145</th>\n",
              "      <td>darline69977700 daughterlong bashgita 61i1690 ...</td>\n",
              "      <td>2022-08-02 14:24:00</td>\n",
              "      <td>2</td>\n",
              "    </tr>\n",
              "    <tr>\n",
              "      <th>146</th>\n",
              "      <td>iantianchant avingrcga ildatalk hindi ko din n...</td>\n",
              "      <td>2022-04-02 17:18:00</td>\n",
              "      <td>0</td>\n",
              "    </tr>\n",
              "    <tr>\n",
              "      <th>147</th>\n",
              "      <td>michaelallan nine19914 y are u so being makuli...</td>\n",
              "      <td>2022-04-02 11:50:00</td>\n",
              "      <td>8</td>\n",
              "    </tr>\n",
              "    <tr>\n",
              "      <th>148</th>\n",
              "      <td>ang gagaling mag paratang ng magnanakaw pero w...</td>\n",
              "      <td>2022-04-02 03:19:00</td>\n",
              "      <td>0</td>\n",
              "    </tr>\n",
              "    <tr>\n",
              "      <th>149</th>\n",
              "      <td>minjeehitori brenda47883368 manilabulletin lol...</td>\n",
              "      <td>2022-01-25 08:06:00</td>\n",
              "      <td>2</td>\n",
              "    </tr>\n",
              "  </tbody>\n",
              "</table>\n",
              "<p>150 rows × 3 columns</p>\n",
              "</div>\n",
              "      <button class=\"colab-df-convert\" onclick=\"convertToInteractive('df-4f043d08-d15a-46c7-8165-0debcb13e112')\"\n",
              "              title=\"Convert this dataframe to an interactive table.\"\n",
              "              style=\"display:none;\">\n",
              "        \n",
              "  <svg xmlns=\"http://www.w3.org/2000/svg\" height=\"24px\"viewBox=\"0 0 24 24\"\n",
              "       width=\"24px\">\n",
              "    <path d=\"M0 0h24v24H0V0z\" fill=\"none\"/>\n",
              "    <path d=\"M18.56 5.44l.94 2.06.94-2.06 2.06-.94-2.06-.94-.94-2.06-.94 2.06-2.06.94zm-11 1L8.5 8.5l.94-2.06 2.06-.94-2.06-.94L8.5 2.5l-.94 2.06-2.06.94zm10 10l.94 2.06.94-2.06 2.06-.94-2.06-.94-.94-2.06-.94 2.06-2.06.94z\"/><path d=\"M17.41 7.96l-1.37-1.37c-.4-.4-.92-.59-1.43-.59-.52 0-1.04.2-1.43.59L10.3 9.45l-7.72 7.72c-.78.78-.78 2.05 0 2.83L4 21.41c.39.39.9.59 1.41.59.51 0 1.02-.2 1.41-.59l7.78-7.78 2.81-2.81c.8-.78.8-2.07 0-2.86zM5.41 20L4 18.59l7.72-7.72 1.47 1.35L5.41 20z\"/>\n",
              "  </svg>\n",
              "      </button>\n",
              "      \n",
              "  <style>\n",
              "    .colab-df-container {\n",
              "      display:flex;\n",
              "      flex-wrap:wrap;\n",
              "      gap: 12px;\n",
              "    }\n",
              "\n",
              "    .colab-df-convert {\n",
              "      background-color: #E8F0FE;\n",
              "      border: none;\n",
              "      border-radius: 50%;\n",
              "      cursor: pointer;\n",
              "      display: none;\n",
              "      fill: #1967D2;\n",
              "      height: 32px;\n",
              "      padding: 0 0 0 0;\n",
              "      width: 32px;\n",
              "    }\n",
              "\n",
              "    .colab-df-convert:hover {\n",
              "      background-color: #E2EBFA;\n",
              "      box-shadow: 0px 1px 2px rgba(60, 64, 67, 0.3), 0px 1px 3px 1px rgba(60, 64, 67, 0.15);\n",
              "      fill: #174EA6;\n",
              "    }\n",
              "\n",
              "    [theme=dark] .colab-df-convert {\n",
              "      background-color: #3B4455;\n",
              "      fill: #D2E3FC;\n",
              "    }\n",
              "\n",
              "    [theme=dark] .colab-df-convert:hover {\n",
              "      background-color: #434B5C;\n",
              "      box-shadow: 0px 1px 3px 1px rgba(0, 0, 0, 0.15);\n",
              "      filter: drop-shadow(0px 1px 2px rgba(0, 0, 0, 0.3));\n",
              "      fill: #FFFFFF;\n",
              "    }\n",
              "  </style>\n",
              "\n",
              "      <script>\n",
              "        const buttonEl =\n",
              "          document.querySelector('#df-4f043d08-d15a-46c7-8165-0debcb13e112 button.colab-df-convert');\n",
              "        buttonEl.style.display =\n",
              "          google.colab.kernel.accessAllowed ? 'block' : 'none';\n",
              "\n",
              "        async function convertToInteractive(key) {\n",
              "          const element = document.querySelector('#df-4f043d08-d15a-46c7-8165-0debcb13e112');\n",
              "          const dataTable =\n",
              "            await google.colab.kernel.invokeFunction('convertToInteractive',\n",
              "                                                     [key], {});\n",
              "          if (!dataTable) return;\n",
              "\n",
              "          const docLinkHtml = 'Like what you see? Visit the ' +\n",
              "            '<a target=\"_blank\" href=https://colab.research.google.com/notebooks/data_table.ipynb>data table notebook</a>'\n",
              "            + ' to learn more about interactive tables.';\n",
              "          element.innerHTML = '';\n",
              "          dataTable['output_type'] = 'display_data';\n",
              "          await google.colab.output.renderOutput(dataTable, element);\n",
              "          const docLink = document.createElement('div');\n",
              "          docLink.innerHTML = docLinkHtml;\n",
              "          element.appendChild(docLink);\n",
              "        }\n",
              "      </script>\n",
              "    </div>\n",
              "  </div>\n",
              "  "
            ],
            "text/plain": [
              "                                                 Tweet                Date  \\\n",
              "0    yang mga link mopuro fake sa websites hindi po... 2022-05-02 00:56:00   \n",
              "1    ang psdbm—pharmally issue ay parang marcos ill... 2021-11-25 14:30:00   \n",
              "2    ang karamihan sa martial victims ay inimbento ... 2022-05-19 11:19:00   \n",
              "3    xian gaza sigurado kang ninakaw nila alam mo  ... 2022-03-28 22:35:00   \n",
              "4    but they dont tackle the 9th which is not to b... 2022-03-15 11:31:00   \n",
              "..                                                 ...                 ...   \n",
              "145  darline69977700 daughterlong bashgita 61i1690 ... 2022-08-02 14:24:00   \n",
              "146  iantianchant avingrcga ildatalk hindi ko din n... 2022-04-02 17:18:00   \n",
              "147  michaelallan nine19914 y are u so being makuli... 2022-04-02 11:50:00   \n",
              "148  ang gagaling mag paratang ng magnanakaw pero w... 2022-04-02 03:19:00   \n",
              "149  minjeehitori brenda47883368 manilabulletin lol... 2022-01-25 08:06:00   \n",
              "\n",
              "     Engagements  \n",
              "0              1  \n",
              "1            120  \n",
              "2             89  \n",
              "3              6  \n",
              "4             78  \n",
              "..           ...  \n",
              "145            2  \n",
              "146            0  \n",
              "147            8  \n",
              "148            0  \n",
              "149            2  \n",
              "\n",
              "[150 rows x 3 columns]"
            ]
          },
          "execution_count": 10,
          "metadata": {},
          "output_type": "execute_result"
        }
      ],
      "source": [
        "# Handle Emojis [2]\n",
        "url_emoji = \"https://drive.google.com/uc?id=1G1vIkkbqPBYPKHcQ8qy0G2zkoab2Qv4v\"\n",
        "df_emoji = pd.read_pickle(url_emoji)\n",
        "df_emoji = {v: k for k, v in df_emoji.items()}\n",
        "\n",
        "def emoji_to_word(text):\n",
        "  for emot in df_emoji:\n",
        "    text = re.sub(r'('+emot+')', \"_\".join(df_emoji[emot].replace(\",\",\"\").replace(\":\",\"\").split()), text)\n",
        "  return text\n",
        "\n",
        "# Handle Emoticons [2]\n",
        "url_emote = \"https://drive.google.com/uc?id=1HDpafp97gCl9xZTQWMgP2kKK_NuhENlE\"\n",
        "df_emote = pd.read_pickle(url_emote)\n",
        "\n",
        "def emote_to_word(text):\n",
        "    for emot in df_emote:\n",
        "        text = re.sub(u'('+emot+')', \"_\".join(df_emote[emot].replace(\",\",\"\").split()), text)\n",
        "        text = text.replace(\"<3\", \"heart\" ) # not included in emoticons database\n",
        "    return text\n",
        "\n",
        "texts = copy.deepcopy(Tweets)\n",
        "\n",
        "texts = [emoji_to_word(t) for t in texts]\n",
        "texts = [emote_to_word(t) for t in texts]\n",
        "\n",
        "# convert to lowercase\n",
        "texts = [t.lower() for t in texts]\n",
        "\n",
        "# remove punctuation\n",
        "texts = [t.translate(str.maketrans('', '', string.punctuation)) for t in texts]\n",
        "\n",
        "TSA = pd.DataFrame({'Tweet': texts, 'Date': NewData['Date posted'], 'Engagements': NewData['Engagements']})\n",
        "TSA"
      ]
    },
    {
      "cell_type": "markdown",
      "metadata": {
        "id": "ANU6r9sksE0a"
      },
      "source": [
        "Translating"
      ]
    },
    {
      "cell_type": "code",
      "execution_count": null,
      "metadata": {
        "colab": {
          "base_uri": "https://localhost:8080/"
        },
        "id": "XYUi7EYDsGaz",
        "outputId": "e9536449-189e-41a6-acae-1fb0edff4179"
      },
      "outputs": [
        {
          "name": "stderr",
          "output_type": "stream",
          "text": [
            "[nltk_data] Downloading package punkt to /root/nltk_data...\n",
            "[nltk_data]   Unzipping tokenizers/punkt.zip.\n",
            "[nltk_data] Downloading package stopwords to /root/nltk_data...\n",
            "[nltk_data]   Unzipping corpora/stopwords.zip.\n",
            "[nltk_data] Downloading package wordnet to /root/nltk_data...\n"
          ]
        }
      ],
      "source": [
        "%%capture\n",
        "nltk.download('punkt')\n",
        "nltk.download('stopwords')\n",
        "nltk.download('wordnet')\n",
        "\n",
        "!pip install googletrans==3.1.0a0"
      ]
    },
    {
      "cell_type": "markdown",
      "metadata": {
        "id": "d1CAZcG9GtOr"
      },
      "source": [
        "Since some of the data can't be processed automatically with the code, there are manual alterations to the csv. (such as translation)"
      ]
    },
    {
      "cell_type": "code",
      "execution_count": null,
      "metadata": {
        "id": "mJhm87szsJH_"
      },
      "outputs": [],
      "source": [
        "# Removing stopwords might be tedious for multilingual texts\n",
        "from nltk.corpus import stopwords\n",
        "from nltk.tokenize import word_tokenize\n",
        "\n",
        "# CHEAP SOLUTION: translate texts to English (this is not 100% accurate)\n",
        "from googletrans import Translator\n",
        "\n",
        "# translate to English\n",
        "translator = Translator()\n",
        "texts_en = [t.text for t in translator.translate(texts, src='tl', dest='en')]"
      ]
    },
    {
      "cell_type": "markdown",
      "metadata": {
        "id": "yhU5Czsf0tbh"
      },
      "source": [
        "Tokenizing and Removing Stop Words"
      ]
    },
    {
      "cell_type": "code",
      "execution_count": null,
      "metadata": {
        "id": "NTZu4zRu0vqQ"
      },
      "outputs": [],
      "source": [
        "texts_tok = []\n",
        "for text in texts_en:\n",
        "    # tokenize the text into words\n",
        "    words = word_tokenize(text)\n",
        "\n",
        "    # remove stopwords\n",
        "    filtered_words = [word for word in words if word.lower() not in stopwords.words('english')]\n",
        "\n",
        "    # convert back into sentence\n",
        "    filtered_sentence = ' '.join(filtered_words)\n",
        "    texts_tok.append(filtered_sentence)"
      ]
    },
    {
      "cell_type": "markdown",
      "metadata": {
        "id": "8mFUqiF1hK1A"
      },
      "source": [
        "Separate the date into three columns: Year, Month, and Day"
      ]
    },
    {
      "cell_type": "code",
      "execution_count": null,
      "metadata": {
        "colab": {
          "base_uri": "https://localhost:8080/",
          "height": 423
        },
        "id": "iox9GoyTUnAv",
        "outputId": "c93326dd-b0fd-40ce-f78b-0e972c91e062"
      },
      "outputs": [
        {
          "data": {
            "text/html": [
              "\n",
              "  <div id=\"df-d1573a12-f1a9-4879-b9f3-36274d7be8b0\">\n",
              "    <div class=\"colab-df-container\">\n",
              "      <div>\n",
              "<style scoped>\n",
              "    .dataframe tbody tr th:only-of-type {\n",
              "        vertical-align: middle;\n",
              "    }\n",
              "\n",
              "    .dataframe tbody tr th {\n",
              "        vertical-align: top;\n",
              "    }\n",
              "\n",
              "    .dataframe thead th {\n",
              "        text-align: right;\n",
              "    }\n",
              "</style>\n",
              "<table border=\"1\" class=\"dataframe\">\n",
              "  <thead>\n",
              "    <tr style=\"text-align: right;\">\n",
              "      <th></th>\n",
              "      <th>Tweet</th>\n",
              "      <th>Date</th>\n",
              "      <th>Year</th>\n",
              "      <th>Month</th>\n",
              "      <th>Day</th>\n",
              "      <th>Engagements</th>\n",
              "      <th>Account Type</th>\n",
              "    </tr>\n",
              "  </thead>\n",
              "  <tbody>\n",
              "    <tr>\n",
              "      <th>0</th>\n",
              "      <td>links fake websites , 's proof marcos never im...</td>\n",
              "      <td>2022-05-02 00:56:00</td>\n",
              "      <td>2022</td>\n",
              "      <td>5</td>\n",
              "      <td>2</td>\n",
              "      <td>1</td>\n",
              "      <td>Identified</td>\n",
              "    </tr>\n",
              "    <tr>\n",
              "      <th>1</th>\n",
              "      <td>psdbm—pharmally issue like marcos illgotten we...</td>\n",
              "      <td>2021-11-25 14:30:00</td>\n",
              "      <td>2021</td>\n",
              "      <td>11</td>\n",
              "      <td>25</td>\n",
              "      <td>120</td>\n",
              "      <td>Identified</td>\n",
              "    </tr>\n",
              "    <tr>\n",
              "      <th>2</th>\n",
              "      <td>martial victims invented ca n't proven victims...</td>\n",
              "      <td>2022-05-19 11:19:00</td>\n",
              "      <td>2022</td>\n",
              "      <td>5</td>\n",
              "      <td>19</td>\n",
              "      <td>89</td>\n",
              "      <td>Anonymous</td>\n",
              "    </tr>\n",
              "    <tr>\n",
              "      <th>3</th>\n",
              "      <td>xian gaza 're sure stole know 're sure testify...</td>\n",
              "      <td>2022-03-28 22:35:00</td>\n",
              "      <td>2022</td>\n",
              "      <td>3</td>\n",
              "      <td>28</td>\n",
              "      <td>6</td>\n",
              "      <td>Anonymous</td>\n",
              "    </tr>\n",
              "    <tr>\n",
              "      <th>4</th>\n",
              "      <td>n't tackle 9th become false witness thy neighb...</td>\n",
              "      <td>2022-03-15 11:31:00</td>\n",
              "      <td>2022</td>\n",
              "      <td>3</td>\n",
              "      <td>15</td>\n",
              "      <td>78</td>\n",
              "      <td>Identified</td>\n",
              "    </tr>\n",
              "    <tr>\n",
              "      <th>...</th>\n",
              "      <td>...</td>\n",
              "      <td>...</td>\n",
              "      <td>...</td>\n",
              "      <td>...</td>\n",
              "      <td>...</td>\n",
              "      <td>...</td>\n",
              "      <td>...</td>\n",
              "    </tr>\n",
              "    <tr>\n",
              "      <th>145</th>\n",
              "      <td>darline69977700 daughterlong bashgita 61i1690 ...</td>\n",
              "      <td>2022-08-02 14:24:00</td>\n",
              "      <td>2022</td>\n",
              "      <td>8</td>\n",
              "      <td>2</td>\n",
              "      <td>2</td>\n",
              "      <td>Anonymous</td>\n",
              "    </tr>\n",
              "    <tr>\n",
              "      <th>146</th>\n",
              "      <td>iantianchant avingrcga ildatalk also consider ...</td>\n",
              "      <td>2022-04-02 17:18:00</td>\n",
              "      <td>2022</td>\n",
              "      <td>4</td>\n",
              "      <td>2</td>\n",
              "      <td>0</td>\n",
              "      <td>Anonymous</td>\n",
              "    </tr>\n",
              "    <tr>\n",
              "      <th>147</th>\n",
              "      <td>michaelallan nine19914 u nasty keep accusing b...</td>\n",
              "      <td>2022-04-02 11:50:00</td>\n",
              "      <td>2022</td>\n",
              "      <td>4</td>\n",
              "      <td>2</td>\n",
              "      <td>8</td>\n",
              "      <td>Anonymous</td>\n",
              "    </tr>\n",
              "    <tr>\n",
              "      <th>148</th>\n",
              "      <td>good accuse thief evidence shown , angry bbm e...</td>\n",
              "      <td>2022-04-02 03:19:00</td>\n",
              "      <td>2022</td>\n",
              "      <td>4</td>\n",
              "      <td>2</td>\n",
              "      <td>0</td>\n",
              "      <td>Anonymous</td>\n",
              "    </tr>\n",
              "    <tr>\n",
              "      <th>149</th>\n",
              "      <td>minjeehitori brenda47883368 manilabulletin lol...</td>\n",
              "      <td>2022-01-25 08:06:00</td>\n",
              "      <td>2022</td>\n",
              "      <td>1</td>\n",
              "      <td>25</td>\n",
              "      <td>2</td>\n",
              "      <td>Anonymous</td>\n",
              "    </tr>\n",
              "  </tbody>\n",
              "</table>\n",
              "<p>150 rows × 7 columns</p>\n",
              "</div>\n",
              "      <button class=\"colab-df-convert\" onclick=\"convertToInteractive('df-d1573a12-f1a9-4879-b9f3-36274d7be8b0')\"\n",
              "              title=\"Convert this dataframe to an interactive table.\"\n",
              "              style=\"display:none;\">\n",
              "        \n",
              "  <svg xmlns=\"http://www.w3.org/2000/svg\" height=\"24px\"viewBox=\"0 0 24 24\"\n",
              "       width=\"24px\">\n",
              "    <path d=\"M0 0h24v24H0V0z\" fill=\"none\"/>\n",
              "    <path d=\"M18.56 5.44l.94 2.06.94-2.06 2.06-.94-2.06-.94-.94-2.06-.94 2.06-2.06.94zm-11 1L8.5 8.5l.94-2.06 2.06-.94-2.06-.94L8.5 2.5l-.94 2.06-2.06.94zm10 10l.94 2.06.94-2.06 2.06-.94-2.06-.94-.94-2.06-.94 2.06-2.06.94z\"/><path d=\"M17.41 7.96l-1.37-1.37c-.4-.4-.92-.59-1.43-.59-.52 0-1.04.2-1.43.59L10.3 9.45l-7.72 7.72c-.78.78-.78 2.05 0 2.83L4 21.41c.39.39.9.59 1.41.59.51 0 1.02-.2 1.41-.59l7.78-7.78 2.81-2.81c.8-.78.8-2.07 0-2.86zM5.41 20L4 18.59l7.72-7.72 1.47 1.35L5.41 20z\"/>\n",
              "  </svg>\n",
              "      </button>\n",
              "      \n",
              "  <style>\n",
              "    .colab-df-container {\n",
              "      display:flex;\n",
              "      flex-wrap:wrap;\n",
              "      gap: 12px;\n",
              "    }\n",
              "\n",
              "    .colab-df-convert {\n",
              "      background-color: #E8F0FE;\n",
              "      border: none;\n",
              "      border-radius: 50%;\n",
              "      cursor: pointer;\n",
              "      display: none;\n",
              "      fill: #1967D2;\n",
              "      height: 32px;\n",
              "      padding: 0 0 0 0;\n",
              "      width: 32px;\n",
              "    }\n",
              "\n",
              "    .colab-df-convert:hover {\n",
              "      background-color: #E2EBFA;\n",
              "      box-shadow: 0px 1px 2px rgba(60, 64, 67, 0.3), 0px 1px 3px 1px rgba(60, 64, 67, 0.15);\n",
              "      fill: #174EA6;\n",
              "    }\n",
              "\n",
              "    [theme=dark] .colab-df-convert {\n",
              "      background-color: #3B4455;\n",
              "      fill: #D2E3FC;\n",
              "    }\n",
              "\n",
              "    [theme=dark] .colab-df-convert:hover {\n",
              "      background-color: #434B5C;\n",
              "      box-shadow: 0px 1px 3px 1px rgba(0, 0, 0, 0.15);\n",
              "      filter: drop-shadow(0px 1px 2px rgba(0, 0, 0, 0.3));\n",
              "      fill: #FFFFFF;\n",
              "    }\n",
              "  </style>\n",
              "\n",
              "      <script>\n",
              "        const buttonEl =\n",
              "          document.querySelector('#df-d1573a12-f1a9-4879-b9f3-36274d7be8b0 button.colab-df-convert');\n",
              "        buttonEl.style.display =\n",
              "          google.colab.kernel.accessAllowed ? 'block' : 'none';\n",
              "\n",
              "        async function convertToInteractive(key) {\n",
              "          const element = document.querySelector('#df-d1573a12-f1a9-4879-b9f3-36274d7be8b0');\n",
              "          const dataTable =\n",
              "            await google.colab.kernel.invokeFunction('convertToInteractive',\n",
              "                                                     [key], {});\n",
              "          if (!dataTable) return;\n",
              "\n",
              "          const docLinkHtml = 'Like what you see? Visit the ' +\n",
              "            '<a target=\"_blank\" href=https://colab.research.google.com/notebooks/data_table.ipynb>data table notebook</a>'\n",
              "            + ' to learn more about interactive tables.';\n",
              "          element.innerHTML = '';\n",
              "          dataTable['output_type'] = 'display_data';\n",
              "          await google.colab.output.renderOutput(dataTable, element);\n",
              "          const docLink = document.createElement('div');\n",
              "          docLink.innerHTML = docLinkHtml;\n",
              "          element.appendChild(docLink);\n",
              "        }\n",
              "      </script>\n",
              "    </div>\n",
              "  </div>\n",
              "  "
            ],
            "text/plain": [
              "                                                 Tweet                Date  \\\n",
              "0    links fake websites , 's proof marcos never im... 2022-05-02 00:56:00   \n",
              "1    psdbm—pharmally issue like marcos illgotten we... 2021-11-25 14:30:00   \n",
              "2    martial victims invented ca n't proven victims... 2022-05-19 11:19:00   \n",
              "3    xian gaza 're sure stole know 're sure testify... 2022-03-28 22:35:00   \n",
              "4    n't tackle 9th become false witness thy neighb... 2022-03-15 11:31:00   \n",
              "..                                                 ...                 ...   \n",
              "145  darline69977700 daughterlong bashgita 61i1690 ... 2022-08-02 14:24:00   \n",
              "146  iantianchant avingrcga ildatalk also consider ... 2022-04-02 17:18:00   \n",
              "147  michaelallan nine19914 u nasty keep accusing b... 2022-04-02 11:50:00   \n",
              "148  good accuse thief evidence shown , angry bbm e... 2022-04-02 03:19:00   \n",
              "149  minjeehitori brenda47883368 manilabulletin lol... 2022-01-25 08:06:00   \n",
              "\n",
              "     Year  Month  Day  Engagements Account Type  \n",
              "0    2022      5    2            1   Identified  \n",
              "1    2021     11   25          120   Identified  \n",
              "2    2022      5   19           89    Anonymous  \n",
              "3    2022      3   28            6    Anonymous  \n",
              "4    2022      3   15           78   Identified  \n",
              "..    ...    ...  ...          ...          ...  \n",
              "145  2022      8    2            2    Anonymous  \n",
              "146  2022      4    2            0    Anonymous  \n",
              "147  2022      4    2            8    Anonymous  \n",
              "148  2022      4    2            0    Anonymous  \n",
              "149  2022      1   25            2    Anonymous  \n",
              "\n",
              "[150 rows x 7 columns]"
            ]
          },
          "execution_count": 14,
          "metadata": {},
          "output_type": "execute_result"
        }
      ],
      "source": [
        "TSA['Tweet'] = texts_tok\n",
        "TSA['Year'] = TSA['Date'].dt.year\n",
        "TSA['Month'] = TSA['Date'].dt.month\n",
        "TSA['Day'] = TSA['Date'].dt.day\n",
        "TSA['Engagements'] = TSA.pop('Engagements')\n",
        "TSA['Account Type'] = data['Account type']\n",
        "TSA"
      ]
    },
    {
      "cell_type": "markdown",
      "metadata": {
        "id": "GgiNW-pIxRzB"
      },
      "source": [
        "Plot the number of tweets per year"
      ]
    },
    {
      "cell_type": "code",
      "execution_count": null,
      "metadata": {
        "colab": {
          "base_uri": "https://localhost:8080/",
          "height": 508
        },
        "id": "2Fz2P28Ve07d",
        "outputId": "6747bd74-2a47-4797-cf5c-5883f10d9fa9"
      },
      "outputs": [
        {
          "data": {
            "text/plain": [
              "Text(1, -0.15, 'The data set contains tweets from 2016 up to 2023. The bulk of data comes from 2022')"
            ]
          },
          "execution_count": 16,
          "metadata": {},
          "output_type": "execute_result"
        },
        {
          "data": {
            "image/png": "[encoded data removed]",
            "text/plain": [
              "<Figure size 640x480 with 1 Axes>"
            ]
          },
          "metadata": {},
          "output_type": "display_data"
        }
      ],
      "source": [
        "import matplotlib.pyplot as plt\n",
        "import seaborn as sns\n",
        "\n",
        "sns.countplot(data=TSA, x='Year')\n",
        "plt.xlabel('Year')\n",
        "plt.ylabel('Number of Tweets')\n",
        "plt.title('Number of Tweets per Year')\n",
        "\n",
        "caption = 'The data set contains tweets from 2016 up to 2023. The bulk of data comes from 2022'\n",
        "plt.text(1, -0.15, caption, ha='center', va='center', transform=plt.gca().transAxes, fontsize=10)"
      ]
    },
    {
      "cell_type": "markdown",
      "metadata": {
        "id": "r38_DXyls-It"
      },
      "source": [
        "Consider tweets from the election year only. Binning the tweets per month."
      ]
    },
    {
      "cell_type": "code",
      "execution_count": null,
      "metadata": {
        "colab": {
          "background_save": true
        },
        "id": "thbnhag4sFm5",
        "outputId": "e7e45112-c302-4281-df54-4849d78538b1"
      },
      "outputs": [
        {
          "data": {
            "text/plain": [
              "Text(2, -0.15, 'Month 2,3, and 4 shows the most number of tweets. This is within 90 days leading up to the election (May 9), which is exactly the campaign period for the presidential elections.')"
            ]
          },
          "execution_count": 23,
          "metadata": {},
          "output_type": "execute_result"
        },
        {
          "data": {
            "image/png": "[encoded data removed]",
            "text/plain": [
              "<Figure size 640x480 with 1 Axes>"
            ]
          },
          "metadata": {},
          "output_type": "display_data"
        }
      ],
      "source": [
        "election_year = 2022\n",
        "monthly_2022 = TSA[TSA['Year'] == election_year]\n",
        "\n",
        "sns.countplot(data=monthly_2022, x='Month')\n",
        "plt.xlabel('Month')\n",
        "plt.ylabel('Number of Tweets')\n",
        "plt.title('Number of Tweets per Month in 2022')\n",
        "\n",
        "caption = 'Month 2,3, and 4 shows the most number of tweets. This is within 90 days leading up to the election (May 9), which is exactly the campaign period for the presidential elections.'\n",
        "plt.text(2, -0.15, caption, ha='center', va='center', transform=plt.gca().transAxes, fontsize=10)"
      ]
    },
    {
      "cell_type": "markdown",
      "metadata": {
        "id": "FLrgjUkmPM4a"
      },
      "source": [
        "Obtain all tweets that were made during the 90 day campaign period. These are tweets between February, March, and April"
      ]
    },
    {
      "cell_type": "code",
      "execution_count": null,
      "metadata": {
        "colab": {
          "background_save": true
        },
        "id": "TfuRwTMTPWcS",
        "outputId": "9bd55a55-b619-4074-e37c-5355a220e64f"
      },
      "outputs": [
        {
          "data": {
            "text/html": [
              "\n",
              "  <div id=\"df-a419915e-1aa1-488f-b799-1e5ab9e7b577\">\n",
              "    <div class=\"colab-df-container\">\n",
              "      <div>\n",
              "<style scoped>\n",
              "    .dataframe tbody tr th:only-of-type {\n",
              "        vertical-align: middle;\n",
              "    }\n",
              "\n",
              "    .dataframe tbody tr th {\n",
              "        vertical-align: top;\n",
              "    }\n",
              "\n",
              "    .dataframe thead th {\n",
              "        text-align: right;\n",
              "    }\n",
              "</style>\n",
              "<table border=\"1\" class=\"dataframe\">\n",
              "  <thead>\n",
              "    <tr style=\"text-align: right;\">\n",
              "      <th></th>\n",
              "      <th>Tweet</th>\n",
              "      <th>Date</th>\n",
              "      <th>Year</th>\n",
              "      <th>Month</th>\n",
              "      <th>Day</th>\n",
              "      <th>Engagements</th>\n",
              "      <th>Account Type</th>\n",
              "    </tr>\n",
              "  </thead>\n",
              "  <tbody>\n",
              "    <tr>\n",
              "      <th>3</th>\n",
              "      <td>xian gaza 're sure stole know 're sure testify...</td>\n",
              "      <td>2022-03-28 22:35:00</td>\n",
              "      <td>2022</td>\n",
              "      <td>3</td>\n",
              "      <td>28</td>\n",
              "      <td>6</td>\n",
              "      <td>Anonymous</td>\n",
              "    </tr>\n",
              "    <tr>\n",
              "      <th>4</th>\n",
              "      <td>n't tackle 9th become false witness thy neighb...</td>\n",
              "      <td>2022-03-15 11:31:00</td>\n",
              "      <td>2022</td>\n",
              "      <td>3</td>\n",
              "      <td>15</td>\n",
              "      <td>78</td>\n",
              "      <td>Identified</td>\n",
              "    </tr>\n",
              "    <tr>\n",
              "      <th>6</th>\n",
              "      <td>marcos proven , evidence leni well proven evid...</td>\n",
              "      <td>2022-04-01 19:06:00</td>\n",
              "      <td>2022</td>\n",
              "      <td>4</td>\n",
              "      <td>1</td>\n",
              "      <td>3</td>\n",
              "      <td>Anonymous</td>\n",
              "    </tr>\n",
              "    <tr>\n",
              "      <th>8</th>\n",
              "      <td>'s marcos tried philippines opposition evidenc...</td>\n",
              "      <td>2022-04-22 22:05:00</td>\n",
              "      <td>2022</td>\n",
              "      <td>4</td>\n",
              "      <td>22</td>\n",
              "      <td>0</td>\n",
              "      <td>Anonymous</td>\n",
              "    </tr>\n",
              "    <tr>\n",
              "      <th>10</th>\n",
              "      <td>rollingonthefloorlaughingfacewithtearsofjoyrol...</td>\n",
              "      <td>2022-03-31 07:21:00</td>\n",
              "      <td>2022</td>\n",
              "      <td>3</td>\n",
              "      <td>31</td>\n",
              "      <td>0</td>\n",
              "      <td>Identified</td>\n",
              "    </tr>\n",
              "    <tr>\n",
              "      <th>14</th>\n",
              "      <td>lol 's court appeals dismissed cases Marcos wi...</td>\n",
              "      <td>2022-03-07 23:06:00</td>\n",
              "      <td>2022</td>\n",
              "      <td>3</td>\n",
              "      <td>7</td>\n",
              "      <td>0</td>\n",
              "      <td>Anonymous</td>\n",
              "    </tr>\n",
              "    <tr>\n",
              "      <th>15</th>\n",
              "      <td>gwr good , mind , fooled decades antimarcos ev...</td>\n",
              "      <td>2022-03-15 05:51:00</td>\n",
              "      <td>2022</td>\n",
              "      <td>3</td>\n",
              "      <td>15</td>\n",
              "      <td>0</td>\n",
              "      <td>Anonymous</td>\n",
              "    </tr>\n",
              "    <tr>\n",
              "      <th>19</th>\n",
              "      <td>kapamilya2022 nine19914 evidence theft saying ...</td>\n",
              "      <td>2022-03-27 17:34:00</td>\n",
              "      <td>2022</td>\n",
              "      <td>3</td>\n",
              "      <td>27</td>\n",
              "      <td>7</td>\n",
              "      <td>Identified</td>\n",
              "    </tr>\n",
              "    <tr>\n",
              "      <th>21</th>\n",
              "      <td>one called thief none marcos family arrested e...</td>\n",
              "      <td>2022-04-05 17:24:00</td>\n",
              "      <td>2022</td>\n",
              "      <td>4</td>\n",
              "      <td>5</td>\n",
              "      <td>0</td>\n",
              "      <td>Anonymous</td>\n",
              "    </tr>\n",
              "    <tr>\n",
              "      <th>22</th>\n",
              "      <td>proof marcos thieves 3 decades accusing eviden...</td>\n",
              "      <td>2022-03-28 21:27:00</td>\n",
              "      <td>2022</td>\n",
              "      <td>3</td>\n",
              "      <td>28</td>\n",
              "      <td>25</td>\n",
              "      <td>Anonymous</td>\n",
              "    </tr>\n",
              "    <tr>\n",
              "      <th>23</th>\n",
              "      <td>facts saying Marcoses thief , n't present evid...</td>\n",
              "      <td>2022-04-27 14:09:00</td>\n",
              "      <td>2022</td>\n",
              "      <td>4</td>\n",
              "      <td>27</td>\n",
              "      <td>1</td>\n",
              "      <td>Anonymous</td>\n",
              "    </tr>\n",
              "    <tr>\n",
              "      <th>34</th>\n",
              "      <td>Yes , billion billion allegations , allegation...</td>\n",
              "      <td>2022-03-20 17:59:00</td>\n",
              "      <td>2022</td>\n",
              "      <td>3</td>\n",
              "      <td>20</td>\n",
              "      <td>2</td>\n",
              "      <td>Anonymous</td>\n",
              "    </tr>\n",
              "    <tr>\n",
              "      <th>36</th>\n",
              "      <td>'re thieves , 're given evidence , 'll suddenl...</td>\n",
              "      <td>2022-02-25 09:25:00</td>\n",
              "      <td>2022</td>\n",
              "      <td>2</td>\n",
              "      <td>25</td>\n",
              "      <td>1</td>\n",
              "      <td>Anonymous</td>\n",
              "    </tr>\n",
              "    <tr>\n",
              "      <th>54</th>\n",
              "      <td>base yellow book history philippines progressi...</td>\n",
              "      <td>2022-02-25 14:08:00</td>\n",
              "      <td>2022</td>\n",
              "      <td>2</td>\n",
              "      <td>25</td>\n",
              "      <td>2</td>\n",
              "      <td>Anonymous</td>\n",
              "    </tr>\n",
              "    <tr>\n",
              "      <th>64</th>\n",
              "      <td>roselio24630976 ulyssisjohn bring evidence put...</td>\n",
              "      <td>2022-03-17 18:47:00</td>\n",
              "      <td>2022</td>\n",
              "      <td>3</td>\n",
              "      <td>17</td>\n",
              "      <td>1</td>\n",
              "      <td>Anonymous</td>\n",
              "    </tr>\n",
              "    <tr>\n",
              "      <th>72</th>\n",
              "      <td>mother going vote ? Digong said n't know , obv...</td>\n",
              "      <td>2022-02-19 13:53:00</td>\n",
              "      <td>2022</td>\n",
              "      <td>2</td>\n",
              "      <td>19</td>\n",
              "      <td>10</td>\n",
              "      <td>Anonymous</td>\n",
              "    </tr>\n",
              "    <tr>\n",
              "      <th>73</th>\n",
              "      <td>thelonerjosh nakamura023 jarloucaliii04 give b...</td>\n",
              "      <td>2022-02-18 14:21:00</td>\n",
              "      <td>2022</td>\n",
              "      <td>2</td>\n",
              "      <td>18</td>\n",
              "      <td>3</td>\n",
              "      <td>Anonymous</td>\n",
              "    </tr>\n",
              "    <tr>\n",
              "      <th>75</th>\n",
              "      <td>voice blind antimarcos keep saying stole abuse...</td>\n",
              "      <td>2022-02-02 20:09:00</td>\n",
              "      <td>2022</td>\n",
              "      <td>2</td>\n",
              "      <td>2</td>\n",
              "      <td>0</td>\n",
              "      <td>Identified</td>\n",
              "    </tr>\n",
              "    <tr>\n",
              "      <th>76</th>\n",
              "      <td>say Marcos thieves , ones robbed , much paid G...</td>\n",
              "      <td>2022-02-02 13:03:00</td>\n",
              "      <td>2022</td>\n",
              "      <td>2</td>\n",
              "      <td>2</td>\n",
              "      <td>1</td>\n",
              "      <td>Anonymous</td>\n",
              "    </tr>\n",
              "    <tr>\n",
              "      <th>86</th>\n",
              "      <td>btskapuso abxirb enough evidence show really a...</td>\n",
              "      <td>2022-02-25 16:41:00</td>\n",
              "      <td>2022</td>\n",
              "      <td>2</td>\n",
              "      <td>25</td>\n",
              "      <td>1</td>\n",
              "      <td>Anonymous</td>\n",
              "    </tr>\n",
              "    <tr>\n",
              "      <th>87</th>\n",
              "      <td>chatter ca n't prove anything even feel powerf...</td>\n",
              "      <td>2022-03-12 15:30:00</td>\n",
              "      <td>2022</td>\n",
              "      <td>3</td>\n",
              "      <td>12</td>\n",
              "      <td>12</td>\n",
              "      <td>Anonymous</td>\n",
              "    </tr>\n",
              "    <tr>\n",
              "      <th>103</th>\n",
              "      <td>pink taliban topic bbm thief bbm n't even evid...</td>\n",
              "      <td>2022-04-30 19:26:00</td>\n",
              "      <td>2022</td>\n",
              "      <td>4</td>\n",
              "      <td>30</td>\n",
              "      <td>1</td>\n",
              "      <td>Anonymous</td>\n",
              "    </tr>\n",
              "    <tr>\n",
              "      <th>104</th>\n",
              "      <td>socmedfakenews belencalison markisha truth say...</td>\n",
              "      <td>2022-04-28 04:55:00</td>\n",
              "      <td>2022</td>\n",
              "      <td>4</td>\n",
              "      <td>28</td>\n",
              "      <td>0</td>\n",
              "      <td>Anonymous</td>\n",
              "    </tr>\n",
              "    <tr>\n",
              "      <th>105</th>\n",
              "      <td>busydokie inquirerdotnet thief , many times ch...</td>\n",
              "      <td>2022-04-27 18:19:00</td>\n",
              "      <td>2022</td>\n",
              "      <td>4</td>\n",
              "      <td>27</td>\n",
              "      <td>2</td>\n",
              "      <td>Anonymous</td>\n",
              "    </tr>\n",
              "    <tr>\n",
              "      <th>108</th>\n",
              "      <td>mirandaedz zippyhipolito , charged evidence st...</td>\n",
              "      <td>2022-03-04 19:59:00</td>\n",
              "      <td>2022</td>\n",
              "      <td>3</td>\n",
              "      <td>4</td>\n",
              "      <td>0</td>\n",
              "      <td>Anonymous</td>\n",
              "    </tr>\n",
              "    <tr>\n",
              "      <th>109</th>\n",
              "      <td>matteoefron abscbnnews joycebalancio ferdinand...</td>\n",
              "      <td>2022-03-31 21:28:00</td>\n",
              "      <td>2022</td>\n",
              "      <td>3</td>\n",
              "      <td>31</td>\n",
              "      <td>2</td>\n",
              "      <td>Identified</td>\n",
              "    </tr>\n",
              "    <tr>\n",
              "      <th>112</th>\n",
              "      <td>hahaha seriously , imelda really need feed who...</td>\n",
              "      <td>2022-04-29 09:52:00</td>\n",
              "      <td>2022</td>\n",
              "      <td>4</td>\n",
              "      <td>29</td>\n",
              "      <td>0</td>\n",
              "      <td>Identified</td>\n",
              "    </tr>\n",
              "    <tr>\n",
              "      <th>117</th>\n",
              "      <td>'s ill gotten wealth , ill gotten wealth issue...</td>\n",
              "      <td>2022-04-05 07:46:00</td>\n",
              "      <td>2022</td>\n",
              "      <td>4</td>\n",
              "      <td>5</td>\n",
              "      <td>1</td>\n",
              "      <td>Anonymous</td>\n",
              "    </tr>\n",
              "    <tr>\n",
              "      <th>120</th>\n",
              "      <td>colmenaresph one idiots submit solid evidence ...</td>\n",
              "      <td>2022-03-25 05:54:00</td>\n",
              "      <td>2022</td>\n",
              "      <td>3</td>\n",
              "      <td>25</td>\n",
              "      <td>0</td>\n",
              "      <td>Anonymous</td>\n",
              "    </tr>\n",
              "    <tr>\n",
              "      <th>121</th>\n",
              "      <td>ctncndvalentine , many cases leni win , bbm es...</td>\n",
              "      <td>2022-03-14 20:36:00</td>\n",
              "      <td>2022</td>\n",
              "      <td>3</td>\n",
              "      <td>14</td>\n",
              "      <td>0</td>\n",
              "      <td>Anonymous</td>\n",
              "    </tr>\n",
              "    <tr>\n",
              "      <th>122</th>\n",
              "      <td>juankalkal elisavalderra12 yesyesyo13 n't know...</td>\n",
              "      <td>2022-03-14 00:56:00</td>\n",
              "      <td>2022</td>\n",
              "      <td>3</td>\n",
              "      <td>14</td>\n",
              "      <td>1</td>\n",
              "      <td>Anonymous</td>\n",
              "    </tr>\n",
              "    <tr>\n",
              "      <th>127</th>\n",
              "      <td>philstarnews single idiot testify bbm thief , ...</td>\n",
              "      <td>2022-04-03 18:34:00</td>\n",
              "      <td>2022</td>\n",
              "      <td>4</td>\n",
              "      <td>3</td>\n",
              "      <td>0</td>\n",
              "      <td>Anonymous</td>\n",
              "    </tr>\n",
              "    <tr>\n",
              "      <th>128</th>\n",
              "      <td>markcuaderno1 iamfourdscard imthinkingpinoy 's...</td>\n",
              "      <td>2022-04-03 09:48:00</td>\n",
              "      <td>2022</td>\n",
              "      <td>4</td>\n",
              "      <td>3</td>\n",
              "      <td>2</td>\n",
              "      <td>Anonymous</td>\n",
              "    </tr>\n",
              "    <tr>\n",
              "      <th>134</th>\n",
              "      <td>antimarcos remember discovered pcgg evidence m...</td>\n",
              "      <td>2022-03-05 11:14:00</td>\n",
              "      <td>2022</td>\n",
              "      <td>3</td>\n",
              "      <td>5</td>\n",
              "      <td>251</td>\n",
              "      <td>Identified</td>\n",
              "    </tr>\n",
              "    <tr>\n",
              "      <th>135</th>\n",
              "      <td>know history , know taught marcos thief yet ev...</td>\n",
              "      <td>2022-04-13 18:55:00</td>\n",
              "      <td>2022</td>\n",
              "      <td>4</td>\n",
              "      <td>13</td>\n",
              "      <td>3</td>\n",
              "      <td>Anonymous</td>\n",
              "    </tr>\n",
              "    <tr>\n",
              "      <th>136</th>\n",
              "      <td>people say marcos thief evidence even court cl...</td>\n",
              "      <td>2022-03-15 20:27:00</td>\n",
              "      <td>2022</td>\n",
              "      <td>3</td>\n",
              "      <td>15</td>\n",
              "      <td>24</td>\n",
              "      <td>Anonymous</td>\n",
              "    </tr>\n",
              "    <tr>\n",
              "      <th>139</th>\n",
              "      <td>'s accusations rumors take property money forc...</td>\n",
              "      <td>2022-04-01 10:55:00</td>\n",
              "      <td>2022</td>\n",
              "      <td>4</td>\n",
              "      <td>1</td>\n",
              "      <td>1</td>\n",
              "      <td>Anonymous</td>\n",
              "    </tr>\n",
              "    <tr>\n",
              "      <th>140</th>\n",
              "      <td>'re embarrassing 're going along n't know , go...</td>\n",
              "      <td>2022-02-27 10:33:00</td>\n",
              "      <td>2022</td>\n",
              "      <td>2</td>\n",
              "      <td>27</td>\n",
              "      <td>2</td>\n",
              "      <td>Anonymous</td>\n",
              "    </tr>\n",
              "    <tr>\n",
              "      <th>141</th>\n",
              "      <td>thomasa76024524 marortoll hahaha float one n't...</td>\n",
              "      <td>2022-02-23 21:25:00</td>\n",
              "      <td>2022</td>\n",
              "      <td>2</td>\n",
              "      <td>23</td>\n",
              "      <td>0</td>\n",
              "      <td>Anonymous</td>\n",
              "    </tr>\n",
              "    <tr>\n",
              "      <th>142</th>\n",
              "      <td>rapplerdotcom even join , please include forei...</td>\n",
              "      <td>2022-02-21 16:03:00</td>\n",
              "      <td>2022</td>\n",
              "      <td>2</td>\n",
              "      <td>21</td>\n",
              "      <td>3</td>\n",
              "      <td>Anonymous</td>\n",
              "    </tr>\n",
              "    <tr>\n",
              "      <th>143</th>\n",
              "      <td>choomchumm ha wet ballot pre printed ballot sh...</td>\n",
              "      <td>2022-02-17 13:15:00</td>\n",
              "      <td>2022</td>\n",
              "      <td>2</td>\n",
              "      <td>17</td>\n",
              "      <td>0</td>\n",
              "      <td>Anonymous</td>\n",
              "    </tr>\n",
              "    <tr>\n",
              "      <th>146</th>\n",
              "      <td>iantianchant avingrcga ildatalk also consider ...</td>\n",
              "      <td>2022-04-02 17:18:00</td>\n",
              "      <td>2022</td>\n",
              "      <td>4</td>\n",
              "      <td>2</td>\n",
              "      <td>0</td>\n",
              "      <td>Anonymous</td>\n",
              "    </tr>\n",
              "    <tr>\n",
              "      <th>147</th>\n",
              "      <td>michaelallan nine19914 u nasty keep accusing b...</td>\n",
              "      <td>2022-04-02 11:50:00</td>\n",
              "      <td>2022</td>\n",
              "      <td>4</td>\n",
              "      <td>2</td>\n",
              "      <td>8</td>\n",
              "      <td>Anonymous</td>\n",
              "    </tr>\n",
              "    <tr>\n",
              "      <th>148</th>\n",
              "      <td>good accuse thief evidence shown , angry bbm e...</td>\n",
              "      <td>2022-04-02 03:19:00</td>\n",
              "      <td>2022</td>\n",
              "      <td>4</td>\n",
              "      <td>2</td>\n",
              "      <td>0</td>\n",
              "      <td>Anonymous</td>\n",
              "    </tr>\n",
              "  </tbody>\n",
              "</table>\n",
              "</div>\n",
              "      <button class=\"colab-df-convert\" onclick=\"convertToInteractive('df-a419915e-1aa1-488f-b799-1e5ab9e7b577')\"\n",
              "              title=\"Convert this dataframe to an interactive table.\"\n",
              "              style=\"display:none;\">\n",
              "        \n",
              "  <svg xmlns=\"http://www.w3.org/2000/svg\" height=\"24px\"viewBox=\"0 0 24 24\"\n",
              "       width=\"24px\">\n",
              "    <path d=\"M0 0h24v24H0V0z\" fill=\"none\"/>\n",
              "    <path d=\"M18.56 5.44l.94 2.06.94-2.06 2.06-.94-2.06-.94-.94-2.06-.94 2.06-2.06.94zm-11 1L8.5 8.5l.94-2.06 2.06-.94-2.06-.94L8.5 2.5l-.94 2.06-2.06.94zm10 10l.94 2.06.94-2.06 2.06-.94-2.06-.94-.94-2.06-.94 2.06-2.06.94z\"/><path d=\"M17.41 7.96l-1.37-1.37c-.4-.4-.92-.59-1.43-.59-.52 0-1.04.2-1.43.59L10.3 9.45l-7.72 7.72c-.78.78-.78 2.05 0 2.83L4 21.41c.39.39.9.59 1.41.59.51 0 1.02-.2 1.41-.59l7.78-7.78 2.81-2.81c.8-.78.8-2.07 0-2.86zM5.41 20L4 18.59l7.72-7.72 1.47 1.35L5.41 20z\"/>\n",
              "  </svg>\n",
              "      </button>\n",
              "      \n",
              "  <style>\n",
              "    .colab-df-container {\n",
              "      display:flex;\n",
              "      flex-wrap:wrap;\n",
              "      gap: 12px;\n",
              "    }\n",
              "\n",
              "    .colab-df-convert {\n",
              "      background-color: #E8F0FE;\n",
              "      border: none;\n",
              "      border-radius: 50%;\n",
              "      cursor: pointer;\n",
              "      display: none;\n",
              "      fill: #1967D2;\n",
              "      height: 32px;\n",
              "      padding: 0 0 0 0;\n",
              "      width: 32px;\n",
              "    }\n",
              "\n",
              "    .colab-df-convert:hover {\n",
              "      background-color: #E2EBFA;\n",
              "      box-shadow: 0px 1px 2px rgba(60, 64, 67, 0.3), 0px 1px 3px 1px rgba(60, 64, 67, 0.15);\n",
              "      fill: #174EA6;\n",
              "    }\n",
              "\n",
              "    [theme=dark] .colab-df-convert {\n",
              "      background-color: #3B4455;\n",
              "      fill: #D2E3FC;\n",
              "    }\n",
              "\n",
              "    [theme=dark] .colab-df-convert:hover {\n",
              "      background-color: #434B5C;\n",
              "      box-shadow: 0px 1px 3px 1px rgba(0, 0, 0, 0.15);\n",
              "      filter: drop-shadow(0px 1px 2px rgba(0, 0, 0, 0.3));\n",
              "      fill: #FFFFFF;\n",
              "    }\n",
              "  </style>\n",
              "\n",
              "      <script>\n",
              "        const buttonEl =\n",
              "          document.querySelector('#df-a419915e-1aa1-488f-b799-1e5ab9e7b577 button.colab-df-convert');\n",
              "        buttonEl.style.display =\n",
              "          google.colab.kernel.accessAllowed ? 'block' : 'none';\n",
              "\n",
              "        async function convertToInteractive(key) {\n",
              "          const element = document.querySelector('#df-a419915e-1aa1-488f-b799-1e5ab9e7b577');\n",
              "          const dataTable =\n",
              "            await google.colab.kernel.invokeFunction('convertToInteractive',\n",
              "                                                     [key], {});\n",
              "          if (!dataTable) return;\n",
              "\n",
              "          const docLinkHtml = 'Like what you see? Visit the ' +\n",
              "            '<a target=\"_blank\" href=https://colab.research.google.com/notebooks/data_table.ipynb>data table notebook</a>'\n",
              "            + ' to learn more about interactive tables.';\n",
              "          element.innerHTML = '';\n",
              "          dataTable['output_type'] = 'display_data';\n",
              "          await google.colab.output.renderOutput(dataTable, element);\n",
              "          const docLink = document.createElement('div');\n",
              "          docLink.innerHTML = docLinkHtml;\n",
              "          element.appendChild(docLink);\n",
              "        }\n",
              "      </script>\n",
              "    </div>\n",
              "  </div>\n",
              "  "
            ],
            "text/plain": [
              "                                                 Tweet                Date  \\\n",
              "3    xian gaza 're sure stole know 're sure testify... 2022-03-28 22:35:00   \n",
              "4    n't tackle 9th become false witness thy neighb... 2022-03-15 11:31:00   \n",
              "6    marcos proven , evidence leni well proven evid... 2022-04-01 19:06:00   \n",
              "8    's marcos tried philippines opposition evidenc... 2022-04-22 22:05:00   \n",
              "10   rollingonthefloorlaughingfacewithtearsofjoyrol... 2022-03-31 07:21:00   \n",
              "14   lol 's court appeals dismissed cases Marcos wi... 2022-03-07 23:06:00   \n",
              "15   gwr good , mind , fooled decades antimarcos ev... 2022-03-15 05:51:00   \n",
              "19   kapamilya2022 nine19914 evidence theft saying ... 2022-03-27 17:34:00   \n",
              "21   one called thief none marcos family arrested e... 2022-04-05 17:24:00   \n",
              "22   proof marcos thieves 3 decades accusing eviden... 2022-03-28 21:27:00   \n",
              "23   facts saying Marcoses thief , n't present evid... 2022-04-27 14:09:00   \n",
              "34   Yes , billion billion allegations , allegation... 2022-03-20 17:59:00   \n",
              "36   're thieves , 're given evidence , 'll suddenl... 2022-02-25 09:25:00   \n",
              "54   base yellow book history philippines progressi... 2022-02-25 14:08:00   \n",
              "64   roselio24630976 ulyssisjohn bring evidence put... 2022-03-17 18:47:00   \n",
              "72   mother going vote ? Digong said n't know , obv... 2022-02-19 13:53:00   \n",
              "73   thelonerjosh nakamura023 jarloucaliii04 give b... 2022-02-18 14:21:00   \n",
              "75   voice blind antimarcos keep saying stole abuse... 2022-02-02 20:09:00   \n",
              "76   say Marcos thieves , ones robbed , much paid G... 2022-02-02 13:03:00   \n",
              "86   btskapuso abxirb enough evidence show really a... 2022-02-25 16:41:00   \n",
              "87   chatter ca n't prove anything even feel powerf... 2022-03-12 15:30:00   \n",
              "103  pink taliban topic bbm thief bbm n't even evid... 2022-04-30 19:26:00   \n",
              "104  socmedfakenews belencalison markisha truth say... 2022-04-28 04:55:00   \n",
              "105  busydokie inquirerdotnet thief , many times ch... 2022-04-27 18:19:00   \n",
              "108  mirandaedz zippyhipolito , charged evidence st... 2022-03-04 19:59:00   \n",
              "109  matteoefron abscbnnews joycebalancio ferdinand... 2022-03-31 21:28:00   \n",
              "112  hahaha seriously , imelda really need feed who... 2022-04-29 09:52:00   \n",
              "117  's ill gotten wealth , ill gotten wealth issue... 2022-04-05 07:46:00   \n",
              "120  colmenaresph one idiots submit solid evidence ... 2022-03-25 05:54:00   \n",
              "121  ctncndvalentine , many cases leni win , bbm es... 2022-03-14 20:36:00   \n",
              "122  juankalkal elisavalderra12 yesyesyo13 n't know... 2022-03-14 00:56:00   \n",
              "127  philstarnews single idiot testify bbm thief , ... 2022-04-03 18:34:00   \n",
              "128  markcuaderno1 iamfourdscard imthinkingpinoy 's... 2022-04-03 09:48:00   \n",
              "134  antimarcos remember discovered pcgg evidence m... 2022-03-05 11:14:00   \n",
              "135  know history , know taught marcos thief yet ev... 2022-04-13 18:55:00   \n",
              "136  people say marcos thief evidence even court cl... 2022-03-15 20:27:00   \n",
              "139  's accusations rumors take property money forc... 2022-04-01 10:55:00   \n",
              "140  're embarrassing 're going along n't know , go... 2022-02-27 10:33:00   \n",
              "141  thomasa76024524 marortoll hahaha float one n't... 2022-02-23 21:25:00   \n",
              "142  rapplerdotcom even join , please include forei... 2022-02-21 16:03:00   \n",
              "143  choomchumm ha wet ballot pre printed ballot sh... 2022-02-17 13:15:00   \n",
              "146  iantianchant avingrcga ildatalk also consider ... 2022-04-02 17:18:00   \n",
              "147  michaelallan nine19914 u nasty keep accusing b... 2022-04-02 11:50:00   \n",
              "148  good accuse thief evidence shown , angry bbm e... 2022-04-02 03:19:00   \n",
              "\n",
              "     Year  Month  Day  Engagements Account Type  \n",
              "3    2022      3   28            6    Anonymous  \n",
              "4    2022      3   15           78   Identified  \n",
              "6    2022      4    1            3    Anonymous  \n",
              "8    2022      4   22            0    Anonymous  \n",
              "10   2022      3   31            0   Identified  \n",
              "14   2022      3    7            0    Anonymous  \n",
              "15   2022      3   15            0    Anonymous  \n",
              "19   2022      3   27            7   Identified  \n",
              "21   2022      4    5            0    Anonymous  \n",
              "22   2022      3   28           25    Anonymous  \n",
              "23   2022      4   27            1    Anonymous  \n",
              "34   2022      3   20            2    Anonymous  \n",
              "36   2022      2   25            1    Anonymous  \n",
              "54   2022      2   25            2    Anonymous  \n",
              "64   2022      3   17            1    Anonymous  \n",
              "72   2022      2   19           10    Anonymous  \n",
              "73   2022      2   18            3    Anonymous  \n",
              "75   2022      2    2            0   Identified  \n",
              "76   2022      2    2            1    Anonymous  \n",
              "86   2022      2   25            1    Anonymous  \n",
              "87   2022      3   12           12    Anonymous  \n",
              "103  2022      4   30            1    Anonymous  \n",
              "104  2022      4   28            0    Anonymous  \n",
              "105  2022      4   27            2    Anonymous  \n",
              "108  2022      3    4            0    Anonymous  \n",
              "109  2022      3   31            2   Identified  \n",
              "112  2022      4   29            0   Identified  \n",
              "117  2022      4    5            1    Anonymous  \n",
              "120  2022      3   25            0    Anonymous  \n",
              "121  2022      3   14            0    Anonymous  \n",
              "122  2022      3   14            1    Anonymous  \n",
              "127  2022      4    3            0    Anonymous  \n",
              "128  2022      4    3            2    Anonymous  \n",
              "134  2022      3    5          251   Identified  \n",
              "135  2022      4   13            3    Anonymous  \n",
              "136  2022      3   15           24    Anonymous  \n",
              "139  2022      4    1            1    Anonymous  \n",
              "140  2022      2   27            2    Anonymous  \n",
              "141  2022      2   23            0    Anonymous  \n",
              "142  2022      2   21            3    Anonymous  \n",
              "143  2022      2   17            0    Anonymous  \n",
              "146  2022      4    2            0    Anonymous  \n",
              "147  2022      4    2            8    Anonymous  \n",
              "148  2022      4    2            0    Anonymous  "
            ]
          },
          "execution_count": 24,
          "metadata": {},
          "output_type": "execute_result"
        }
      ],
      "source": [
        "campaign_period_months = [2,3,4]\n",
        "cpm = monthly_2022[monthly_2022['Month'].isin(campaign_period_months)]\n",
        "cpm"
      ]
    },
    {
      "cell_type": "markdown",
      "metadata": {
        "id": "ldxI_1uQPnmh"
      },
      "source": [
        "Identify how many of the tweets made during the campaign period were from anonymous accounts."
      ]
    },
    {
      "cell_type": "code",
      "execution_count": null,
      "metadata": {
        "colab": {
          "background_save": true
        },
        "id": "kVCjIo_mQRB-",
        "outputId": "45747aa6-d7b2-41b0-c2db-c9b2f450b57e"
      },
      "outputs": [
        {
          "data": {
            "text/plain": [
              "Text(0.5, -0.15, 'The plot shows that 35 anonymous tweets were made during the campaign period')"
            ]
          },
          "execution_count": 25,
          "metadata": {},
          "output_type": "execute_result"
        },
        {
          "data": {
            "image/png": "[encoded data removed]",
            "text/plain": [
              "<Figure size 640x480 with 1 Axes>"
            ]
          },
          "metadata": {},
          "output_type": "display_data"
        }
      ],
      "source": [
        "sns.countplot(data=cpm, x='Account Type')\n",
        "plt.xlabel('Account Type')\n",
        "plt.ylabel('Number of Tweets')\n",
        "plt.title('Number of Tweets per Account Type')\n",
        "\n",
        "caption = 'The plot shows that 35 anonymous tweets were made during the campaign period'\n",
        "plt.text(0.5, -0.15, caption, ha='center', va='center', transform=plt.gca().transAxes, fontsize=10)"
      ]
    },
    {
      "cell_type": "markdown",
      "metadata": {
        "id": "IgESD2_UZvyo"
      },
      "source": [
        "Plot the number of engagements per month in the year 2022."
      ]
    },
    {
      "cell_type": "code",
      "execution_count": null,
      "metadata": {
        "colab": {
          "background_save": true
        },
        "id": "xzqClO9L3yUX",
        "outputId": "4303080d-e5e4-4187-ca13-4c14e0247bb5"
      },
      "outputs": [
        {
          "data": {
            "text/plain": [
              "Text(0.5, -0.15, 'The plot shows the total engagements of the tweets made per month .')"
            ]
          },
          "execution_count": 26,
          "metadata": {},
          "output_type": "execute_result"
        },
        {
          "data": {
            "image/png": "[encoded data removed]",
            "text/plain": [
              "<Figure size 640x480 with 1 Axes>"
            ]
          },
          "metadata": {},
          "output_type": "display_data"
        }
      ],
      "source": [
        "sns.scatterplot(data=monthly_2022, x='Month', y='Engagements')\n",
        "plt.xlabel('Month')\n",
        "plt.ylabel('Engagements')\n",
        "plt.title('Engagements per Month')\n",
        "\n",
        "caption = 'The plot shows the total engagements of the tweets made per month .'\n",
        "plt.text(0.5, -0.15, caption, ha='center', va='center', transform=plt.gca().transAxes, fontsize=10)"
      ]
    },
    {
      "cell_type": "markdown",
      "metadata": {
        "id": "DRRAt1DYZ3yV"
      },
      "source": [
        "Get the average engagements per month."
      ]
    },
    {
      "cell_type": "code",
      "execution_count": null,
      "metadata": {
        "colab": {
          "base_uri": "https://localhost:8080/",
          "height": 498
        },
        "id": "ahEz6xZf6KB2",
        "outputId": "fe782922-d228-47a7-8804-cea6ed8ed577"
      },
      "outputs": [
        {
          "output_type": "display_data",
          "data": {
            "text/plain": [
              "<Figure size 640x480 with 1 Axes>"
            ],
            "image/png": "[encoded data removed]"
          },
          "metadata": {}
        }
      ],
      "source": [
        "monthly_avg = monthly_2022.groupby(['Month'])['Engagements'].mean().reset_index()\n",
        "sns.lineplot(data=monthly_avg, x='Month', y='Engagements')\n",
        "plt.xlabel('Month', fontsize=20)\n",
        "plt.ylabel('Engagements', fontsize=20)\n",
        "plt.title('Average Engagements per Month', fontsize=20)\n",
        "\n",
        "plt.tick_params(axis='x', labelsize=12)  # Adjust the fontsize as needed\n",
        "plt.tick_params(axis='y', labelsize=12)  # Adjust the fontsize as needed\n",
        "\n",
        "#caption = 'This plot shows the average engagement per tweet made during the month.'\n",
        "#plt.text(0.5, -0.15, caption, ha='center', va='center', transform=plt.gca().transAxes, fontsize=10)"
      ]
    },
    {
      "cell_type": "markdown",
      "metadata": {
        "id": "4kR-XyL6D_DD"
      },
      "source": [
        "# **Visualization**(other plots)"
      ]
    },
    {
      "cell_type": "markdown",
      "metadata": {
        "id": "SptYJZNe-IwM"
      },
      "source": [
        "Create a new dataframe for visualization of plots other than Time Series Analysis."
      ]
    },
    {
      "cell_type": "code",
      "execution_count": null,
      "metadata": {
        "colab": {
          "background_save": true
        },
        "id": "f_bjiki29dxU",
        "outputId": "61423b45-a135-4606-a435-647b10bdf064"
      },
      "outputs": [
        {
          "data": {
            "text/html": [
              "\n",
              "  <div id=\"df-07deb817-d432-42cc-aa93-562723fbf76c\">\n",
              "    <div class=\"colab-df-container\">\n",
              "      <div>\n",
              "<style scoped>\n",
              "    .dataframe tbody tr th:only-of-type {\n",
              "        vertical-align: middle;\n",
              "    }\n",
              "\n",
              "    .dataframe tbody tr th {\n",
              "        vertical-align: top;\n",
              "    }\n",
              "\n",
              "    .dataframe thead th {\n",
              "        text-align: right;\n",
              "    }\n",
              "</style>\n",
              "<table border=\"1\" class=\"dataframe\">\n",
              "  <thead>\n",
              "    <tr style=\"text-align: right;\">\n",
              "      <th></th>\n",
              "      <th>Tweet</th>\n",
              "      <th>Account Type</th>\n",
              "      <th>Engagements</th>\n",
              "    </tr>\n",
              "  </thead>\n",
              "  <tbody>\n",
              "    <tr>\n",
              "      <th>0</th>\n",
              "      <td>links fake websites , 's proof marcos never im...</td>\n",
              "      <td>Identified</td>\n",
              "      <td>1</td>\n",
              "    </tr>\n",
              "    <tr>\n",
              "      <th>1</th>\n",
              "      <td>psdbm—pharmally issue like marcos illgotten we...</td>\n",
              "      <td>Identified</td>\n",
              "      <td>120</td>\n",
              "    </tr>\n",
              "    <tr>\n",
              "      <th>2</th>\n",
              "      <td>martial victims invented ca n't proven victims...</td>\n",
              "      <td>Anonymous</td>\n",
              "      <td>89</td>\n",
              "    </tr>\n",
              "    <tr>\n",
              "      <th>3</th>\n",
              "      <td>xian gaza 're sure stole know 're sure testify...</td>\n",
              "      <td>Anonymous</td>\n",
              "      <td>6</td>\n",
              "    </tr>\n",
              "    <tr>\n",
              "      <th>4</th>\n",
              "      <td>n't tackle 9th become false witness thy neighb...</td>\n",
              "      <td>Identified</td>\n",
              "      <td>78</td>\n",
              "    </tr>\n",
              "    <tr>\n",
              "      <th>...</th>\n",
              "      <td>...</td>\n",
              "      <td>...</td>\n",
              "      <td>...</td>\n",
              "    </tr>\n",
              "    <tr>\n",
              "      <th>145</th>\n",
              "      <td>darline69977700 daughterlong bashgita 61i1690 ...</td>\n",
              "      <td>Anonymous</td>\n",
              "      <td>2</td>\n",
              "    </tr>\n",
              "    <tr>\n",
              "      <th>146</th>\n",
              "      <td>iantianchant avingrcga ildatalk also consider ...</td>\n",
              "      <td>Anonymous</td>\n",
              "      <td>0</td>\n",
              "    </tr>\n",
              "    <tr>\n",
              "      <th>147</th>\n",
              "      <td>michaelallan nine19914 u nasty keep accusing b...</td>\n",
              "      <td>Anonymous</td>\n",
              "      <td>8</td>\n",
              "    </tr>\n",
              "    <tr>\n",
              "      <th>148</th>\n",
              "      <td>good accuse thief evidence shown , angry bbm e...</td>\n",
              "      <td>Anonymous</td>\n",
              "      <td>0</td>\n",
              "    </tr>\n",
              "    <tr>\n",
              "      <th>149</th>\n",
              "      <td>minjeehitori brenda47883368 manilabulletin lol...</td>\n",
              "      <td>Anonymous</td>\n",
              "      <td>2</td>\n",
              "    </tr>\n",
              "  </tbody>\n",
              "</table>\n",
              "<p>150 rows × 3 columns</p>\n",
              "</div>\n",
              "      <button class=\"colab-df-convert\" onclick=\"convertToInteractive('df-07deb817-d432-42cc-aa93-562723fbf76c')\"\n",
              "              title=\"Convert this dataframe to an interactive table.\"\n",
              "              style=\"display:none;\">\n",
              "        \n",
              "  <svg xmlns=\"http://www.w3.org/2000/svg\" height=\"24px\"viewBox=\"0 0 24 24\"\n",
              "       width=\"24px\">\n",
              "    <path d=\"M0 0h24v24H0V0z\" fill=\"none\"/>\n",
              "    <path d=\"M18.56 5.44l.94 2.06.94-2.06 2.06-.94-2.06-.94-.94-2.06-.94 2.06-2.06.94zm-11 1L8.5 8.5l.94-2.06 2.06-.94-2.06-.94L8.5 2.5l-.94 2.06-2.06.94zm10 10l.94 2.06.94-2.06 2.06-.94-2.06-.94-.94-2.06-.94 2.06-2.06.94z\"/><path d=\"M17.41 7.96l-1.37-1.37c-.4-.4-.92-.59-1.43-.59-.52 0-1.04.2-1.43.59L10.3 9.45l-7.72 7.72c-.78.78-.78 2.05 0 2.83L4 21.41c.39.39.9.59 1.41.59.51 0 1.02-.2 1.41-.59l7.78-7.78 2.81-2.81c.8-.78.8-2.07 0-2.86zM5.41 20L4 18.59l7.72-7.72 1.47 1.35L5.41 20z\"/>\n",
              "  </svg>\n",
              "      </button>\n",
              "      \n",
              "  <style>\n",
              "    .colab-df-container {\n",
              "      display:flex;\n",
              "      flex-wrap:wrap;\n",
              "      gap: 12px;\n",
              "    }\n",
              "\n",
              "    .colab-df-convert {\n",
              "      background-color: #E8F0FE;\n",
              "      border: none;\n",
              "      border-radius: 50%;\n",
              "      cursor: pointer;\n",
              "      display: none;\n",
              "      fill: #1967D2;\n",
              "      height: 32px;\n",
              "      padding: 0 0 0 0;\n",
              "      width: 32px;\n",
              "    }\n",
              "\n",
              "    .colab-df-convert:hover {\n",
              "      background-color: #E2EBFA;\n",
              "      box-shadow: 0px 1px 2px rgba(60, 64, 67, 0.3), 0px 1px 3px 1px rgba(60, 64, 67, 0.15);\n",
              "      fill: #174EA6;\n",
              "    }\n",
              "\n",
              "    [theme=dark] .colab-df-convert {\n",
              "      background-color: #3B4455;\n",
              "      fill: #D2E3FC;\n",
              "    }\n",
              "\n",
              "    [theme=dark] .colab-df-convert:hover {\n",
              "      background-color: #434B5C;\n",
              "      box-shadow: 0px 1px 3px 1px rgba(0, 0, 0, 0.15);\n",
              "      filter: drop-shadow(0px 1px 2px rgba(0, 0, 0, 0.3));\n",
              "      fill: #FFFFFF;\n",
              "    }\n",
              "  </style>\n",
              "\n",
              "      <script>\n",
              "        const buttonEl =\n",
              "          document.querySelector('#df-07deb817-d432-42cc-aa93-562723fbf76c button.colab-df-convert');\n",
              "        buttonEl.style.display =\n",
              "          google.colab.kernel.accessAllowed ? 'block' : 'none';\n",
              "\n",
              "        async function convertToInteractive(key) {\n",
              "          const element = document.querySelector('#df-07deb817-d432-42cc-aa93-562723fbf76c');\n",
              "          const dataTable =\n",
              "            await google.colab.kernel.invokeFunction('convertToInteractive',\n",
              "                                                     [key], {});\n",
              "          if (!dataTable) return;\n",
              "\n",
              "          const docLinkHtml = 'Like what you see? Visit the ' +\n",
              "            '<a target=\"_blank\" href=https://colab.research.google.com/notebooks/data_table.ipynb>data table notebook</a>'\n",
              "            + ' to learn more about interactive tables.';\n",
              "          element.innerHTML = '';\n",
              "          dataTable['output_type'] = 'display_data';\n",
              "          await google.colab.output.renderOutput(dataTable, element);\n",
              "          const docLink = document.createElement('div');\n",
              "          docLink.innerHTML = docLinkHtml;\n",
              "          element.appendChild(docLink);\n",
              "        }\n",
              "      </script>\n",
              "    </div>\n",
              "  </div>\n",
              "  "
            ],
            "text/plain": [
              "                                                 Tweet Account Type  \\\n",
              "0    links fake websites , 's proof marcos never im...   Identified   \n",
              "1    psdbm—pharmally issue like marcos illgotten we...   Identified   \n",
              "2    martial victims invented ca n't proven victims...    Anonymous   \n",
              "3    xian gaza 're sure stole know 're sure testify...    Anonymous   \n",
              "4    n't tackle 9th become false witness thy neighb...   Identified   \n",
              "..                                                 ...          ...   \n",
              "145  darline69977700 daughterlong bashgita 61i1690 ...    Anonymous   \n",
              "146  iantianchant avingrcga ildatalk also consider ...    Anonymous   \n",
              "147  michaelallan nine19914 u nasty keep accusing b...    Anonymous   \n",
              "148  good accuse thief evidence shown , angry bbm e...    Anonymous   \n",
              "149  minjeehitori brenda47883368 manilabulletin lol...    Anonymous   \n",
              "\n",
              "     Engagements  \n",
              "0              1  \n",
              "1            120  \n",
              "2             89  \n",
              "3              6  \n",
              "4             78  \n",
              "..           ...  \n",
              "145            2  \n",
              "146            0  \n",
              "147            8  \n",
              "148            0  \n",
              "149            2  \n",
              "\n",
              "[150 rows x 3 columns]"
            ]
          },
          "execution_count": 28,
          "metadata": {},
          "output_type": "execute_result"
        }
      ],
      "source": [
        "other_plots = pd.DataFrame({'Tweet': texts_tok, 'Account Type': data['Account type'], 'Engagements': NewData['Engagements']})\n",
        "other_plots\n"
      ]
    },
    {
      "cell_type": "markdown",
      "metadata": {
        "id": "XQlUq54yaVnj"
      },
      "source": [
        "Compare the number of engagements for tweets made in the campaign period between anonymous(unknown) and verified(known) accounts"
      ]
    },
    {
      "cell_type": "code",
      "execution_count": null,
      "metadata": {
        "id": "GXmKy28RZiEe",
        "colab": {
          "base_uri": "https://localhost:8080/",
          "height": 498
        },
        "outputId": "f5dfd775-4b1d-4fdd-befd-2b5feaf1a463"
      },
      "outputs": [
        {
          "output_type": "display_data",
          "data": {
            "text/plain": [
              "<Figure size 640x480 with 1 Axes>"
            ],
            "image/png": "[encoded data removed]"
          },
          "metadata": {}
        }
      ],
      "source": [
        "sns.barplot(data=cpm, x='Account Type', y='Engagements')\n",
        "plt.xlabel('Account Type', fontsize=20)\n",
        "plt.ylabel('Engagements', fontsize=20)\n",
        "plt.title('Engagements per Account Type', fontsize=20)\n",
        "\n",
        "plt.tick_params(axis='x', labelsize=12)  # Adjust the fontsize as needed\n",
        "plt.tick_params(axis='y', labelsize=12)  # Adjust the fontsize as needed\n",
        "\n",
        "#caption = 'This plot shows the total number of engagements per account type for all tweets made during the campaign period.'\n",
        "#plt.text(0.5, -0.15, caption, ha='center', va='center', transform=plt.gca().transAxes, fontsize=10)"
      ]
    },
    {
      "cell_type": "markdown",
      "metadata": {
        "id": "5ueApuOGDyIo"
      },
      "source": [
        "Generate a new dataframe containing the account type and number of engagements. Convert the account type to Identified = 1, and Anonymous = 0.\n",
        "Plot a heatmap for the correlation matrix."
      ]
    },
    {
      "cell_type": "code",
      "execution_count": null,
      "metadata": {
        "id": "IVPThQmXCeZ_",
        "colab": {
          "base_uri": "https://localhost:8080/",
          "height": 469
        },
        "outputId": "d9505c03-de34-4d35-df6a-e7f996a50c00"
      },
      "outputs": [
        {
          "output_type": "execute_result",
          "data": {
            "text/plain": [
              "Text(0.5, 1.0, 'Correlation Matrix for Account Type and Engagements')"
            ]
          },
          "metadata": {},
          "execution_count": 37
        },
        {
          "output_type": "display_data",
          "data": {
            "text/plain": [
              "<Figure size 640x480 with 2 Axes>"
            ],
            "image/png": "[encoded data removed]"
          },
          "metadata": {}
        }
      ],
      "source": [
        "cpm_at_e = cpm[['Account Type', 'Engagements']]\n",
        "cpm_at_e = cpm_at_e.replace('Identified',1)\n",
        "cpm_at_e = cpm_at_e.replace('Anonymous',0)\n",
        "corr_matrix = cpm_at_e.corr()\n",
        "sns.heatmap(corr_matrix, annot=True, cmap=\"RdYlBu\")\n",
        "plt.title(\"Correlation Matrix for Account Type and Engagements\")"
      ]
    }
  ],
  "metadata": {
    "colab": {
      "provenance": []
    },
    "kernelspec": {
      "display_name": "Python 3",
      "name": "python3"
    },
    "language_info": {
      "name": "python"
    }
  },
  "nbformat": 4,
  "nbformat_minor": 0
}